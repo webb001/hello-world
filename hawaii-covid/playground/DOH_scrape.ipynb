{
 "cells": [
  {
   "cell_type": "markdown",
   "metadata": {},
   "source": [
    "# Scrape the DOH daily totals page\n",
    "Cut and paste into the totals.csv when it looks okay.\n",
    "\n",
    "Probably could import totals.csv and then update if the new date is later than the old. Possibly with a loop until that happens. But, still have to read the footnotes to get new cases. So, doesn't seem worth it for now. \n",
    "\n",
    "Longer term the CSVDownload.csv on the dashboard might be a better way to get daily cases. However, that is only available via the Tableau button on the charts right now."
   ]
  },
  {
   "cell_type": "code",
   "execution_count": 1,
   "metadata": {},
   "outputs": [],
   "source": [
    "import requests\n",
    "import urllib.request\n",
    "import time           #in case we want to hit the server in a loop and need a delay\n",
    "from bs4 import BeautifulSoup\n",
    "import re\n",
    "from dateutil.parser import parse"
   ]
  },
  {
   "cell_type": "code",
   "execution_count": 2,
   "metadata": {},
   "outputs": [],
   "source": [
    "url = 'https://health.hawaii.gov/coronavirusdisease2019/'\n",
    "response = requests.get(url)"
   ]
  },
  {
   "cell_type": "code",
   "execution_count": 3,
   "metadata": {},
   "outputs": [],
   "source": [
    "soup = BeautifulSoup(response.text, 'html.parser')"
   ]
  },
  {
   "cell_type": "code",
   "execution_count": 4,
   "metadata": {},
   "outputs": [
    {
     "name": "stdout",
     "output_type": "stream",
     "text": [
      "Total cases: 14156* (91 new)\n",
      "Hawai’i County: 1083\n",
      "Honolulu County: 12552\n",
      "Kaua’i County: 60\n",
      "Maui County: 413†\n",
      "Pending: 0\n",
      "Residents diagnosed outside of Hawai‘i: 48\n",
      "Required Hospitalization: 1025‡\n",
      "Hawaii deaths: 189\n",
      "Released from Isolation: 11150§\n",
      "Cumulative totals as of 12:00pm, October 20, 2020\n"
     ]
    }
   ],
   "source": [
    "for t in soup('dd'):\n",
    "    print(t.get_text())"
   ]
  },
  {
   "cell_type": "code",
   "execution_count": 5,
   "metadata": {},
   "outputs": [
    {
     "data": {
      "text/plain": [
       "['10/20/2020',\n",
       " '14156',\n",
       " '1083',\n",
       " '12552',\n",
       " '60',\n",
       " '413',\n",
       " '0',\n",
       " '48',\n",
       " '1025',\n",
       " '189',\n",
       " '11150']"
      ]
     },
     "execution_count": 5,
     "metadata": {},
     "output_type": "execute_result"
    }
   ],
   "source": [
    "vals = []\n",
    "vals.append(parse(soup.find(string=re.compile('Cumulative totals as of'))[23:]).strftime('%m/%d/%Y'))\n",
    "for t in soup('dd'):\n",
    "    for d in t(class_='value'):\n",
    "        vals.append(re.findall(r'\\b\\d+\\b',t.get_text())[0])\n",
    "vals"
   ]
  },
  {
   "cell_type": "code",
   "execution_count": 6,
   "metadata": {},
   "outputs": [
    {
     "name": "stdout",
     "output_type": "stream",
     "text": [
      "10/20/2020,14156,12552,1083,413,60,48\n"
     ]
    }
   ],
   "source": [
    "print(vals[0]+','+vals[1]+','+vals[3]+','+vals[2]+','+vals[5]+','+vals[4]+','+vals[7])"
   ]
  },
  {
   "cell_type": "code",
   "execution_count": null,
   "metadata": {},
   "outputs": [],
   "source": []
  }
 ],
 "metadata": {
  "kernelspec": {
   "display_name": "Python 3",
   "language": "python",
   "name": "python3"
  },
  "language_info": {
   "codemirror_mode": {
    "name": "ipython",
    "version": 3
   },
   "file_extension": ".py",
   "mimetype": "text/x-python",
   "name": "python",
   "nbconvert_exporter": "python",
   "pygments_lexer": "ipython3",
   "version": "3.7.6"
  }
 },
 "nbformat": 4,
 "nbformat_minor": 4
}
